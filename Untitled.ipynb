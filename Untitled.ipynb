{
 "cells": [
  {
   "cell_type": "markdown",
   "id": "75a0a5f3",
   "metadata": {},
   "source": [
    "## PORTFOLIO love"
   ]
  },
  {
   "cell_type": "code",
   "execution_count": 9,
   "id": "a0b0f548",
   "metadata": {},
   "outputs": [],
   "source": [
    "import pandas as pd\n",
    "import numpy as np"
   ]
  },
  {
   "cell_type": "code",
   "execution_count": 10,
   "id": "81911773",
   "metadata": {},
   "outputs": [],
   "source": [
    "portfolio = pd.DataFrame()\n",
    "portfolio['Investment'] = ['BTC-USD','MSTR','USD']\n",
    "portfolio = portfolio.set_index('Investment')"
   ]
  },
  {
   "cell_type": "code",
   "execution_count": 15,
   "id": "d772a77b",
   "metadata": {},
   "outputs": [],
   "source": [
    "portfolio['Quantity'] = [1.23,12.6,10000]\n",
    "portfolio['Purchase_Price'] = [15300,645,10000]\n",
    "portfolio['CurrentPrice']=[43000,560,10000]\n",
    "portfolio['Profit in $'] = (portfolio['CurrentPrice'] - portfolio['Purchase_Price'])*portfolio['Quantity']\n",
    "portfolio['Profit in %'] = (portfolio['CurrentPrice'] / portfolio['Purchase_Price'] -1)*100"
   ]
  },
  {
   "cell_type": "code",
   "execution_count": 16,
   "id": "53c09cab",
   "metadata": {},
   "outputs": [
    {
     "data": {
      "text/html": [
       "<div>\n",
       "<style scoped>\n",
       "    .dataframe tbody tr th:only-of-type {\n",
       "        vertical-align: middle;\n",
       "    }\n",
       "\n",
       "    .dataframe tbody tr th {\n",
       "        vertical-align: top;\n",
       "    }\n",
       "\n",
       "    .dataframe thead th {\n",
       "        text-align: right;\n",
       "    }\n",
       "</style>\n",
       "<table border=\"1\" class=\"dataframe\">\n",
       "  <thead>\n",
       "    <tr style=\"text-align: right;\">\n",
       "      <th></th>\n",
       "      <th>Quantity</th>\n",
       "      <th>Purchase_Price</th>\n",
       "      <th>CurrentPrice</th>\n",
       "      <th>Profit in $</th>\n",
       "      <th>Profit in %</th>\n",
       "    </tr>\n",
       "    <tr>\n",
       "      <th>Investment</th>\n",
       "      <th></th>\n",
       "      <th></th>\n",
       "      <th></th>\n",
       "      <th></th>\n",
       "      <th></th>\n",
       "    </tr>\n",
       "  </thead>\n",
       "  <tbody>\n",
       "    <tr>\n",
       "      <th>BTC-USD</th>\n",
       "      <td>1.23</td>\n",
       "      <td>15300</td>\n",
       "      <td>43000</td>\n",
       "      <td>34071.0</td>\n",
       "      <td>181.045752</td>\n",
       "    </tr>\n",
       "    <tr>\n",
       "      <th>MSTR</th>\n",
       "      <td>12.60</td>\n",
       "      <td>645</td>\n",
       "      <td>560</td>\n",
       "      <td>-1071.0</td>\n",
       "      <td>-13.178295</td>\n",
       "    </tr>\n",
       "    <tr>\n",
       "      <th>USD</th>\n",
       "      <td>10000.00</td>\n",
       "      <td>10000</td>\n",
       "      <td>10000</td>\n",
       "      <td>0.0</td>\n",
       "      <td>0.000000</td>\n",
       "    </tr>\n",
       "  </tbody>\n",
       "</table>\n",
       "</div>"
      ],
      "text/plain": [
       "            Quantity  Purchase_Price  CurrentPrice  Profit in $  Profit in %\n",
       "Investment                                                                  \n",
       "BTC-USD         1.23           15300         43000      34071.0   181.045752\n",
       "MSTR           12.60             645           560      -1071.0   -13.178295\n",
       "USD         10000.00           10000         10000          0.0     0.000000"
      ]
     },
     "execution_count": 16,
     "metadata": {},
     "output_type": "execute_result"
    }
   ],
   "source": [
    "portfolio"
   ]
  },
  {
   "cell_type": "code",
   "execution_count": 23,
   "id": "c54afd5c",
   "metadata": {},
   "outputs": [],
   "source": [
    "import datetime\n",
    "import yfinance as yf\n",
    "import seaborn as sns\n",
    "import matplotlib.pyplot as plt"
   ]
  },
  {
   "cell_type": "code",
   "execution_count": 27,
   "id": "a5399b7a",
   "metadata": {},
   "outputs": [],
   "source": [
    "start = datetime.datetime(2023,11,1)\n",
    "end = datetime.datetime(2023,12,8)\n",
    "assets = ['BTC-USD','MSTR','SPY']"
   ]
  },
  {
   "cell_type": "code",
   "execution_count": 28,
   "id": "1e9c112c",
   "metadata": {},
   "outputs": [],
   "source": [
    "def CorrFunction(start, end, assets):\n",
    "    data=yf.download(assets, start = start, end = end)\n",
    "    data = data['Close']\n",
    "    \n",
    "    returns = (data / data.shift(1)) - 1\n",
    "    returns = returns.dropna()\n",
    "    \n",
    "    corr = sns.heatmap(returns.corr(), annot=True, cmap=\"coolwarm\")\n",
    "    plt.show()  # Display the heatmap\n",
    "\n",
    "    return corr"
   ]
  },
  {
   "cell_type": "code",
   "execution_count": 29,
   "id": "b8600cbe",
   "metadata": {},
   "outputs": [
    {
     "name": "stdout",
     "output_type": "stream",
     "text": [
      "[*********************100%***********************]  3 of 3 completed\n"
     ]
    },
    {
     "data": {
      "image/png": "[encoded data removed]",
      "text/plain": [
       "<Figure size 432x288 with 2 Axes>"
      ]
     },
     "metadata": {
      "needs_background": "light"
     },
     "output_type": "display_data"
    },
    {
     "data": {
      "text/plain": [
       "<AxesSubplot:>"
      ]
     },
     "execution_count": 29,
     "metadata": {},
     "output_type": "execute_result"
    }
   ],
   "source": [
    "CorrFunction(start,end,assets)"
   ]
  },
  {
   "cell_type": "code",
   "execution_count": null,
   "id": "6b127512",
   "metadata": {},
   "outputs": [],
   "source": []
  }
 ],
 "metadata": {
  "kernelspec": {
   "display_name": "Python 3 (ipykernel)",
   "language": "python",
   "name": "python3"
  },
  "language_info": {
   "codemirror_mode": {
    "name": "ipython",
    "version": 3
   },
   "file_extension": ".py",
   "mimetype": "text/x-python",
   "name": "python",
   "nbconvert_exporter": "python",
   "pygments_lexer": "ipython3",
   "version": "3.10.4"
  }
 },
 "nbformat": 4,
 "nbformat_minor": 5
}
